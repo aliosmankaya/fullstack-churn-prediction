{
 "cells": [
  {
   "cell_type": "code",
   "execution_count": 1,
   "id": "75ff3058-38f2-4581-9b0e-23a94a4d032e",
   "metadata": {},
   "outputs": [],
   "source": [
    "import pandas as pd\n",
    "import mlflow\n",
    "\n",
    "from sklearn.model_selection import train_test_split\n",
    "from sklearn.linear_model import LogisticRegression\n",
    "from sklearn.metrics import accuracy_score, precision_score, recall_score, f1_score"
   ]
  },
  {
   "cell_type": "code",
   "execution_count": 2,
   "id": "ca9bc1cc-d381-4b92-b10c-ed439c50a8c0",
   "metadata": {},
   "outputs": [],
   "source": [
    "mlflow.set_tracking_uri(\"sqlite:///mlflow.db\")\n",
    "mlflow.set_experiment(\"churn-experiment\")\n",
    "\n",
    "%load_ext lab_black"
   ]
  },
  {
   "cell_type": "code",
   "execution_count": 3,
   "id": "63f43bf0-e8a7-4c2d-9ef9-26635963f184",
   "metadata": {},
   "outputs": [],
   "source": [
    "path = \"../data/preprocessed.parquet\""
   ]
  },
  {
   "cell_type": "code",
   "execution_count": 4,
   "id": "d97bd18f-ab23-48fc-bad0-877505efcf2f",
   "metadata": {},
   "outputs": [],
   "source": [
    "df = pd.read_parquet(path)"
   ]
  },
  {
   "cell_type": "code",
   "execution_count": 5,
   "id": "a6227fa4-b760-4e23-ab53-4c06a350f1a2",
   "metadata": {},
   "outputs": [],
   "source": [
    "X = df.drop(\"Churn\", axis=1)\n",
    "y = df[\"Churn\"]\n",
    "\n",
    "X_train, X_test, y_train, y_test = train_test_split(\n",
    "    X, y, test_size=0.2, random_state=42\n",
    ")"
   ]
  },
  {
   "cell_type": "code",
   "execution_count": 6,
   "id": "fbdd17f7-66ea-4f2b-a7ac-ad625306121e",
   "metadata": {},
   "outputs": [
    {
     "name": "stderr",
     "output_type": "stream",
     "text": [
      "/home/alios/anaconda3/envs/fullstack-churn-prediction/lib/python3.8/site-packages/_distutils_hack/__init__.py:33: UserWarning: Setuptools is replacing distutils.\n",
      "  warnings.warn(\"Setuptools is replacing distutils.\")\n",
      "Registered model 'sklearn-logreg-model' already exists. Creating a new version of this model...\n",
      "2023/01/26 23:38:04 INFO mlflow.tracking._model_registry.client: Waiting up to 300 seconds for model version to finish creation.                     Model name: sklearn-logreg-model, version 2\n",
      "Created version '2' of model 'sklearn-logreg-model'.\n"
     ]
    }
   ],
   "source": [
    "with mlflow.start_run():\n",
    "\n",
    "    mlflow.log_param(\"data-path\", path)\n",
    "\n",
    "    max_iter = 500\n",
    "    mlflow.log_param(\"max_iter\", max_iter)\n",
    "\n",
    "    lr = LogisticRegression(max_iter=max_iter)\n",
    "    lr.fit(X_train, y_train)\n",
    "\n",
    "    mlflow.sklearn.log_model(\n",
    "        sk_model=lr,\n",
    "        artifact_path=\"sklearn-model\",\n",
    "        registered_model_name=\"sklearn-logreg-model\",\n",
    "    )\n",
    "\n",
    "    train_score = lr.score(X_train, y_train)\n",
    "\n",
    "    y_pred = lr.predict(X_test)\n",
    "\n",
    "    mlflow.log_metric(\"accuracy_score\", accuracy_score(y_test, y_pred))\n",
    "    mlflow.log_metric(\"precision_score\", precision_score(y_test, y_pred))\n",
    "    mlflow.log_metric(\"recall_score\", recall_score(y_test, y_pred))\n",
    "    mlflow.log_metric(\"f1_score\", f1_score(y_test, y_pred, average=\"weighted\"))"
   ]
  },
  {
   "cell_type": "code",
   "execution_count": null,
   "id": "3c41c87e-e831-4b2d-bc60-b330c0b899e6",
   "metadata": {},
   "outputs": [],
   "source": []
  }
 ],
 "metadata": {
  "kernelspec": {
   "display_name": "Python 3",
   "language": "python",
   "name": "python3"
  },
  "language_info": {
   "codemirror_mode": {
    "name": "ipython",
    "version": 3
   },
   "file_extension": ".py",
   "mimetype": "text/x-python",
   "name": "python",
   "nbconvert_exporter": "python",
   "pygments_lexer": "ipython3",
   "version": "3.8.16"
  }
 },
 "nbformat": 4,
 "nbformat_minor": 5
}
